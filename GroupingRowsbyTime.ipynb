{
 "cells": [
  {
   "cell_type": "code",
   "execution_count": 6,
   "id": "f65a2ddc-afb2-4a95-a39c-70fef3c00f39",
   "metadata": {},
   "outputs": [],
   "source": [
    "# Load libraries\n",
    "import pandas as pd\n",
    "import numpy as np"
   ]
  },
  {
   "cell_type": "code",
   "execution_count": 7,
   "id": "08e0dce2-4096-46eb-84a9-1e03ec4840d5",
   "metadata": {},
   "outputs": [
    {
     "name": "stderr",
     "output_type": "stream",
     "text": [
      "C:\\Users\\dell\\AppData\\Local\\Temp\\ipykernel_27712\\2519601725.py:2: FutureWarning: 'S' is deprecated and will be removed in a future version, please use 's' instead.\n",
      "  time_index = pd.date_range('06/06/2017', periods=100000, freq='30S')\n"
     ]
    }
   ],
   "source": [
    "# Create date range\n",
    "time_index = pd.date_range('06/06/2017', periods=100000, freq='30S')"
   ]
  },
  {
   "cell_type": "code",
   "execution_count": 8,
   "id": "e4b6e946-00f7-4e15-829a-684f94ff60eb",
   "metadata": {},
   "outputs": [],
   "source": [
    "# Create DataFrame\n",
    "dataframe = pd.DataFrame(index=time_index)"
   ]
  },
  {
   "cell_type": "code",
   "execution_count": 9,
   "id": "ac7b1f94-a308-4d74-8510-bb39b76180bb",
   "metadata": {},
   "outputs": [],
   "source": [
    "# Create column of random values\n",
    "dataframe['Sale_Amount'] = np.random.randint(1, 10, 100000)"
   ]
  },
  {
   "cell_type": "code",
   "execution_count": 10,
   "id": "36452711-2de3-414a-a1ad-fdc1c3397b1f",
   "metadata": {},
   "outputs": [
    {
     "data": {
      "text/html": [
       "<div>\n",
       "<style scoped>\n",
       "    .dataframe tbody tr th:only-of-type {\n",
       "        vertical-align: middle;\n",
       "    }\n",
       "\n",
       "    .dataframe tbody tr th {\n",
       "        vertical-align: top;\n",
       "    }\n",
       "\n",
       "    .dataframe thead th {\n",
       "        text-align: right;\n",
       "    }\n",
       "</style>\n",
       "<table border=\"1\" class=\"dataframe\">\n",
       "  <thead>\n",
       "    <tr style=\"text-align: right;\">\n",
       "      <th></th>\n",
       "      <th>Sale_Amount</th>\n",
       "    </tr>\n",
       "  </thead>\n",
       "  <tbody>\n",
       "    <tr>\n",
       "      <th>2017-06-11</th>\n",
       "      <td>86006</td>\n",
       "    </tr>\n",
       "    <tr>\n",
       "      <th>2017-06-18</th>\n",
       "      <td>100702</td>\n",
       "    </tr>\n",
       "    <tr>\n",
       "      <th>2017-06-25</th>\n",
       "      <td>100764</td>\n",
       "    </tr>\n",
       "    <tr>\n",
       "      <th>2017-07-02</th>\n",
       "      <td>100778</td>\n",
       "    </tr>\n",
       "    <tr>\n",
       "      <th>2017-07-09</th>\n",
       "      <td>101034</td>\n",
       "    </tr>\n",
       "    <tr>\n",
       "      <th>2017-07-16</th>\n",
       "      <td>10405</td>\n",
       "    </tr>\n",
       "  </tbody>\n",
       "</table>\n",
       "</div>"
      ],
      "text/plain": [
       "            Sale_Amount\n",
       "2017-06-11        86006\n",
       "2017-06-18       100702\n",
       "2017-06-25       100764\n",
       "2017-07-02       100778\n",
       "2017-07-09       101034\n",
       "2017-07-16        10405"
      ]
     },
     "execution_count": 10,
     "metadata": {},
     "output_type": "execute_result"
    }
   ],
   "source": [
    "# Group rows by week, calculate sum per week\n",
    "dataframe.resample('W').sum()"
   ]
  },
  {
   "cell_type": "code",
   "execution_count": 11,
   "id": "4ae7272a-915c-4252-97c6-22333594a07c",
   "metadata": {},
   "outputs": [
    {
     "data": {
      "text/html": [
       "<div>\n",
       "<style scoped>\n",
       "    .dataframe tbody tr th:only-of-type {\n",
       "        vertical-align: middle;\n",
       "    }\n",
       "\n",
       "    .dataframe tbody tr th {\n",
       "        vertical-align: top;\n",
       "    }\n",
       "\n",
       "    .dataframe thead th {\n",
       "        text-align: right;\n",
       "    }\n",
       "</style>\n",
       "<table border=\"1\" class=\"dataframe\">\n",
       "  <thead>\n",
       "    <tr style=\"text-align: right;\">\n",
       "      <th></th>\n",
       "      <th>Sale_Amount</th>\n",
       "    </tr>\n",
       "  </thead>\n",
       "  <tbody>\n",
       "    <tr>\n",
       "      <th>2017-06-06 00:00:00</th>\n",
       "      <td>4</td>\n",
       "    </tr>\n",
       "    <tr>\n",
       "      <th>2017-06-06 00:00:30</th>\n",
       "      <td>4</td>\n",
       "    </tr>\n",
       "    <tr>\n",
       "      <th>2017-06-06 00:01:00</th>\n",
       "      <td>9</td>\n",
       "    </tr>\n",
       "  </tbody>\n",
       "</table>\n",
       "</div>"
      ],
      "text/plain": [
       "                     Sale_Amount\n",
       "2017-06-06 00:00:00            4\n",
       "2017-06-06 00:00:30            4\n",
       "2017-06-06 00:01:00            9"
      ]
     },
     "execution_count": 11,
     "metadata": {},
     "output_type": "execute_result"
    }
   ],
   "source": [
    "# Show three rows\n",
    "dataframe.head(3)"
   ]
  },
  {
   "cell_type": "code",
   "execution_count": 4,
   "id": "b432b89b-fe13-4f56-aaee-59ff08dabb54",
   "metadata": {},
   "outputs": [
    {
     "ename": "TypeError",
     "evalue": "agg function failed [how->mean,dtype->object]",
     "output_type": "error",
     "traceback": [
      "\u001b[1;31m---------------------------------------------------------------------------\u001b[0m",
      "\u001b[1;31mTypeError\u001b[0m                                 Traceback (most recent call last)",
      "File \u001b[1;32m~\\miniconda3\\Lib\\site-packages\\pandas\\core\\groupby\\groupby.py:1942\u001b[0m, in \u001b[0;36mGroupBy._agg_py_fallback\u001b[1;34m(self, how, values, ndim, alt)\u001b[0m\n\u001b[0;32m   1941\u001b[0m \u001b[38;5;28;01mtry\u001b[39;00m:\n\u001b[1;32m-> 1942\u001b[0m     res_values \u001b[38;5;241m=\u001b[39m \u001b[38;5;28;43mself\u001b[39;49m\u001b[38;5;241;43m.\u001b[39;49m\u001b[43m_grouper\u001b[49m\u001b[38;5;241;43m.\u001b[39;49m\u001b[43magg_series\u001b[49m\u001b[43m(\u001b[49m\u001b[43mser\u001b[49m\u001b[43m,\u001b[49m\u001b[43m \u001b[49m\u001b[43malt\u001b[49m\u001b[43m,\u001b[49m\u001b[43m \u001b[49m\u001b[43mpreserve_dtype\u001b[49m\u001b[38;5;241;43m=\u001b[39;49m\u001b[38;5;28;43;01mTrue\u001b[39;49;00m\u001b[43m)\u001b[49m\n\u001b[0;32m   1943\u001b[0m \u001b[38;5;28;01mexcept\u001b[39;00m \u001b[38;5;167;01mException\u001b[39;00m \u001b[38;5;28;01mas\u001b[39;00m err:\n",
      "File \u001b[1;32m~\\miniconda3\\Lib\\site-packages\\pandas\\core\\groupby\\ops.py:864\u001b[0m, in \u001b[0;36mBaseGrouper.agg_series\u001b[1;34m(self, obj, func, preserve_dtype)\u001b[0m\n\u001b[0;32m    862\u001b[0m     preserve_dtype \u001b[38;5;241m=\u001b[39m \u001b[38;5;28;01mTrue\u001b[39;00m\n\u001b[1;32m--> 864\u001b[0m result \u001b[38;5;241m=\u001b[39m \u001b[38;5;28;43mself\u001b[39;49m\u001b[38;5;241;43m.\u001b[39;49m\u001b[43m_aggregate_series_pure_python\u001b[49m\u001b[43m(\u001b[49m\u001b[43mobj\u001b[49m\u001b[43m,\u001b[49m\u001b[43m \u001b[49m\u001b[43mfunc\u001b[49m\u001b[43m)\u001b[49m\n\u001b[0;32m    866\u001b[0m npvalues \u001b[38;5;241m=\u001b[39m lib\u001b[38;5;241m.\u001b[39mmaybe_convert_objects(result, try_float\u001b[38;5;241m=\u001b[39m\u001b[38;5;28;01mFalse\u001b[39;00m)\n",
      "File \u001b[1;32m~\\miniconda3\\Lib\\site-packages\\pandas\\core\\groupby\\ops.py:885\u001b[0m, in \u001b[0;36mBaseGrouper._aggregate_series_pure_python\u001b[1;34m(self, obj, func)\u001b[0m\n\u001b[0;32m    884\u001b[0m \u001b[38;5;28;01mfor\u001b[39;00m i, group \u001b[38;5;129;01min\u001b[39;00m \u001b[38;5;28menumerate\u001b[39m(splitter):\n\u001b[1;32m--> 885\u001b[0m     res \u001b[38;5;241m=\u001b[39m \u001b[43mfunc\u001b[49m\u001b[43m(\u001b[49m\u001b[43mgroup\u001b[49m\u001b[43m)\u001b[49m\n\u001b[0;32m    886\u001b[0m     res \u001b[38;5;241m=\u001b[39m extract_result(res)\n",
      "File \u001b[1;32m~\\miniconda3\\Lib\\site-packages\\pandas\\core\\groupby\\groupby.py:2454\u001b[0m, in \u001b[0;36mGroupBy.mean.<locals>.<lambda>\u001b[1;34m(x)\u001b[0m\n\u001b[0;32m   2451\u001b[0m \u001b[38;5;28;01melse\u001b[39;00m:\n\u001b[0;32m   2452\u001b[0m     result \u001b[38;5;241m=\u001b[39m \u001b[38;5;28mself\u001b[39m\u001b[38;5;241m.\u001b[39m_cython_agg_general(\n\u001b[0;32m   2453\u001b[0m         \u001b[38;5;124m\"\u001b[39m\u001b[38;5;124mmean\u001b[39m\u001b[38;5;124m\"\u001b[39m,\n\u001b[1;32m-> 2454\u001b[0m         alt\u001b[38;5;241m=\u001b[39m\u001b[38;5;28;01mlambda\u001b[39;00m x: \u001b[43mSeries\u001b[49m\u001b[43m(\u001b[49m\u001b[43mx\u001b[49m\u001b[43m,\u001b[49m\u001b[43m \u001b[49m\u001b[43mcopy\u001b[49m\u001b[38;5;241;43m=\u001b[39;49m\u001b[38;5;28;43;01mFalse\u001b[39;49;00m\u001b[43m)\u001b[49m\u001b[38;5;241;43m.\u001b[39;49m\u001b[43mmean\u001b[49m\u001b[43m(\u001b[49m\u001b[43mnumeric_only\u001b[49m\u001b[38;5;241;43m=\u001b[39;49m\u001b[43mnumeric_only\u001b[49m\u001b[43m)\u001b[49m,\n\u001b[0;32m   2455\u001b[0m         numeric_only\u001b[38;5;241m=\u001b[39mnumeric_only,\n\u001b[0;32m   2456\u001b[0m     )\n\u001b[0;32m   2457\u001b[0m     \u001b[38;5;28;01mreturn\u001b[39;00m result\u001b[38;5;241m.\u001b[39m__finalize__(\u001b[38;5;28mself\u001b[39m\u001b[38;5;241m.\u001b[39mobj, method\u001b[38;5;241m=\u001b[39m\u001b[38;5;124m\"\u001b[39m\u001b[38;5;124mgroupby\u001b[39m\u001b[38;5;124m\"\u001b[39m)\n",
      "File \u001b[1;32m~\\miniconda3\\Lib\\site-packages\\pandas\\core\\series.py:6549\u001b[0m, in \u001b[0;36mSeries.mean\u001b[1;34m(self, axis, skipna, numeric_only, **kwargs)\u001b[0m\n\u001b[0;32m   6541\u001b[0m \u001b[38;5;129m@doc\u001b[39m(make_doc(\u001b[38;5;124m\"\u001b[39m\u001b[38;5;124mmean\u001b[39m\u001b[38;5;124m\"\u001b[39m, ndim\u001b[38;5;241m=\u001b[39m\u001b[38;5;241m1\u001b[39m))\n\u001b[0;32m   6542\u001b[0m \u001b[38;5;28;01mdef\u001b[39;00m \u001b[38;5;21mmean\u001b[39m(\n\u001b[0;32m   6543\u001b[0m     \u001b[38;5;28mself\u001b[39m,\n\u001b[1;32m   (...)\u001b[0m\n\u001b[0;32m   6547\u001b[0m     \u001b[38;5;241m*\u001b[39m\u001b[38;5;241m*\u001b[39mkwargs,\n\u001b[0;32m   6548\u001b[0m ):\n\u001b[1;32m-> 6549\u001b[0m     \u001b[38;5;28;01mreturn\u001b[39;00m \u001b[43mNDFrame\u001b[49m\u001b[38;5;241;43m.\u001b[39;49m\u001b[43mmean\u001b[49m\u001b[43m(\u001b[49m\u001b[38;5;28;43mself\u001b[39;49m\u001b[43m,\u001b[49m\u001b[43m \u001b[49m\u001b[43maxis\u001b[49m\u001b[43m,\u001b[49m\u001b[43m \u001b[49m\u001b[43mskipna\u001b[49m\u001b[43m,\u001b[49m\u001b[43m \u001b[49m\u001b[43mnumeric_only\u001b[49m\u001b[43m,\u001b[49m\u001b[43m \u001b[49m\u001b[38;5;241;43m*\u001b[39;49m\u001b[38;5;241;43m*\u001b[39;49m\u001b[43mkwargs\u001b[49m\u001b[43m)\u001b[49m\n",
      "File \u001b[1;32m~\\miniconda3\\Lib\\site-packages\\pandas\\core\\generic.py:12420\u001b[0m, in \u001b[0;36mNDFrame.mean\u001b[1;34m(self, axis, skipna, numeric_only, **kwargs)\u001b[0m\n\u001b[0;32m  12413\u001b[0m \u001b[38;5;28;01mdef\u001b[39;00m \u001b[38;5;21mmean\u001b[39m(\n\u001b[0;32m  12414\u001b[0m     \u001b[38;5;28mself\u001b[39m,\n\u001b[0;32m  12415\u001b[0m     axis: Axis \u001b[38;5;241m|\u001b[39m \u001b[38;5;28;01mNone\u001b[39;00m \u001b[38;5;241m=\u001b[39m \u001b[38;5;241m0\u001b[39m,\n\u001b[1;32m   (...)\u001b[0m\n\u001b[0;32m  12418\u001b[0m     \u001b[38;5;241m*\u001b[39m\u001b[38;5;241m*\u001b[39mkwargs,\n\u001b[0;32m  12419\u001b[0m ) \u001b[38;5;241m-\u001b[39m\u001b[38;5;241m>\u001b[39m Series \u001b[38;5;241m|\u001b[39m \u001b[38;5;28mfloat\u001b[39m:\n\u001b[1;32m> 12420\u001b[0m     \u001b[38;5;28;01mreturn\u001b[39;00m \u001b[38;5;28;43mself\u001b[39;49m\u001b[38;5;241;43m.\u001b[39;49m\u001b[43m_stat_function\u001b[49m\u001b[43m(\u001b[49m\n\u001b[0;32m  12421\u001b[0m \u001b[43m        \u001b[49m\u001b[38;5;124;43m\"\u001b[39;49m\u001b[38;5;124;43mmean\u001b[39;49m\u001b[38;5;124;43m\"\u001b[39;49m\u001b[43m,\u001b[49m\u001b[43m \u001b[49m\u001b[43mnanops\u001b[49m\u001b[38;5;241;43m.\u001b[39;49m\u001b[43mnanmean\u001b[49m\u001b[43m,\u001b[49m\u001b[43m \u001b[49m\u001b[43maxis\u001b[49m\u001b[43m,\u001b[49m\u001b[43m \u001b[49m\u001b[43mskipna\u001b[49m\u001b[43m,\u001b[49m\u001b[43m \u001b[49m\u001b[43mnumeric_only\u001b[49m\u001b[43m,\u001b[49m\u001b[43m \u001b[49m\u001b[38;5;241;43m*\u001b[39;49m\u001b[38;5;241;43m*\u001b[39;49m\u001b[43mkwargs\u001b[49m\n\u001b[0;32m  12422\u001b[0m \u001b[43m    \u001b[49m\u001b[43m)\u001b[49m\n",
      "File \u001b[1;32m~\\miniconda3\\Lib\\site-packages\\pandas\\core\\generic.py:12377\u001b[0m, in \u001b[0;36mNDFrame._stat_function\u001b[1;34m(self, name, func, axis, skipna, numeric_only, **kwargs)\u001b[0m\n\u001b[0;32m  12375\u001b[0m validate_bool_kwarg(skipna, \u001b[38;5;124m\"\u001b[39m\u001b[38;5;124mskipna\u001b[39m\u001b[38;5;124m\"\u001b[39m, none_allowed\u001b[38;5;241m=\u001b[39m\u001b[38;5;28;01mFalse\u001b[39;00m)\n\u001b[1;32m> 12377\u001b[0m \u001b[38;5;28;01mreturn\u001b[39;00m \u001b[38;5;28;43mself\u001b[39;49m\u001b[38;5;241;43m.\u001b[39;49m\u001b[43m_reduce\u001b[49m\u001b[43m(\u001b[49m\n\u001b[0;32m  12378\u001b[0m \u001b[43m    \u001b[49m\u001b[43mfunc\u001b[49m\u001b[43m,\u001b[49m\u001b[43m \u001b[49m\u001b[43mname\u001b[49m\u001b[38;5;241;43m=\u001b[39;49m\u001b[43mname\u001b[49m\u001b[43m,\u001b[49m\u001b[43m \u001b[49m\u001b[43maxis\u001b[49m\u001b[38;5;241;43m=\u001b[39;49m\u001b[43maxis\u001b[49m\u001b[43m,\u001b[49m\u001b[43m \u001b[49m\u001b[43mskipna\u001b[49m\u001b[38;5;241;43m=\u001b[39;49m\u001b[43mskipna\u001b[49m\u001b[43m,\u001b[49m\u001b[43m \u001b[49m\u001b[43mnumeric_only\u001b[49m\u001b[38;5;241;43m=\u001b[39;49m\u001b[43mnumeric_only\u001b[49m\n\u001b[0;32m  12379\u001b[0m \u001b[43m\u001b[49m\u001b[43m)\u001b[49m\n",
      "File \u001b[1;32m~\\miniconda3\\Lib\\site-packages\\pandas\\core\\series.py:6457\u001b[0m, in \u001b[0;36mSeries._reduce\u001b[1;34m(self, op, name, axis, skipna, numeric_only, filter_type, **kwds)\u001b[0m\n\u001b[0;32m   6453\u001b[0m     \u001b[38;5;28;01mraise\u001b[39;00m \u001b[38;5;167;01mTypeError\u001b[39;00m(\n\u001b[0;32m   6454\u001b[0m         \u001b[38;5;124mf\u001b[39m\u001b[38;5;124m\"\u001b[39m\u001b[38;5;124mSeries.\u001b[39m\u001b[38;5;132;01m{\u001b[39;00mname\u001b[38;5;132;01m}\u001b[39;00m\u001b[38;5;124m does not allow \u001b[39m\u001b[38;5;132;01m{\u001b[39;00mkwd_name\u001b[38;5;132;01m}\u001b[39;00m\u001b[38;5;124m=\u001b[39m\u001b[38;5;132;01m{\u001b[39;00mnumeric_only\u001b[38;5;132;01m}\u001b[39;00m\u001b[38;5;124m \u001b[39m\u001b[38;5;124m\"\u001b[39m\n\u001b[0;32m   6455\u001b[0m         \u001b[38;5;124m\"\u001b[39m\u001b[38;5;124mwith non-numeric dtypes.\u001b[39m\u001b[38;5;124m\"\u001b[39m\n\u001b[0;32m   6456\u001b[0m     )\n\u001b[1;32m-> 6457\u001b[0m \u001b[38;5;28;01mreturn\u001b[39;00m \u001b[43mop\u001b[49m\u001b[43m(\u001b[49m\u001b[43mdelegate\u001b[49m\u001b[43m,\u001b[49m\u001b[43m \u001b[49m\u001b[43mskipna\u001b[49m\u001b[38;5;241;43m=\u001b[39;49m\u001b[43mskipna\u001b[49m\u001b[43m,\u001b[49m\u001b[43m \u001b[49m\u001b[38;5;241;43m*\u001b[39;49m\u001b[38;5;241;43m*\u001b[39;49m\u001b[43mkwds\u001b[49m\u001b[43m)\u001b[49m\n",
      "File \u001b[1;32m~\\miniconda3\\Lib\\site-packages\\pandas\\core\\nanops.py:147\u001b[0m, in \u001b[0;36mbottleneck_switch.__call__.<locals>.f\u001b[1;34m(values, axis, skipna, **kwds)\u001b[0m\n\u001b[0;32m    146\u001b[0m \u001b[38;5;28;01melse\u001b[39;00m:\n\u001b[1;32m--> 147\u001b[0m     result \u001b[38;5;241m=\u001b[39m \u001b[43malt\u001b[49m\u001b[43m(\u001b[49m\u001b[43mvalues\u001b[49m\u001b[43m,\u001b[49m\u001b[43m \u001b[49m\u001b[43maxis\u001b[49m\u001b[38;5;241;43m=\u001b[39;49m\u001b[43maxis\u001b[49m\u001b[43m,\u001b[49m\u001b[43m \u001b[49m\u001b[43mskipna\u001b[49m\u001b[38;5;241;43m=\u001b[39;49m\u001b[43mskipna\u001b[49m\u001b[43m,\u001b[49m\u001b[43m \u001b[49m\u001b[38;5;241;43m*\u001b[39;49m\u001b[38;5;241;43m*\u001b[39;49m\u001b[43mkwds\u001b[49m\u001b[43m)\u001b[49m\n\u001b[0;32m    149\u001b[0m \u001b[38;5;28;01mreturn\u001b[39;00m result\n",
      "File \u001b[1;32m~\\miniconda3\\Lib\\site-packages\\pandas\\core\\nanops.py:404\u001b[0m, in \u001b[0;36m_datetimelike_compat.<locals>.new_func\u001b[1;34m(values, axis, skipna, mask, **kwargs)\u001b[0m\n\u001b[0;32m    402\u001b[0m     mask \u001b[38;5;241m=\u001b[39m isna(values)\n\u001b[1;32m--> 404\u001b[0m result \u001b[38;5;241m=\u001b[39m \u001b[43mfunc\u001b[49m\u001b[43m(\u001b[49m\u001b[43mvalues\u001b[49m\u001b[43m,\u001b[49m\u001b[43m \u001b[49m\u001b[43maxis\u001b[49m\u001b[38;5;241;43m=\u001b[39;49m\u001b[43maxis\u001b[49m\u001b[43m,\u001b[49m\u001b[43m \u001b[49m\u001b[43mskipna\u001b[49m\u001b[38;5;241;43m=\u001b[39;49m\u001b[43mskipna\u001b[49m\u001b[43m,\u001b[49m\u001b[43m \u001b[49m\u001b[43mmask\u001b[49m\u001b[38;5;241;43m=\u001b[39;49m\u001b[43mmask\u001b[49m\u001b[43m,\u001b[49m\u001b[43m \u001b[49m\u001b[38;5;241;43m*\u001b[39;49m\u001b[38;5;241;43m*\u001b[39;49m\u001b[43mkwargs\u001b[49m\u001b[43m)\u001b[49m\n\u001b[0;32m    406\u001b[0m \u001b[38;5;28;01mif\u001b[39;00m datetimelike:\n",
      "File \u001b[1;32m~\\miniconda3\\Lib\\site-packages\\pandas\\core\\nanops.py:720\u001b[0m, in \u001b[0;36mnanmean\u001b[1;34m(values, axis, skipna, mask)\u001b[0m\n\u001b[0;32m    719\u001b[0m the_sum \u001b[38;5;241m=\u001b[39m values\u001b[38;5;241m.\u001b[39msum(axis, dtype\u001b[38;5;241m=\u001b[39mdtype_sum)\n\u001b[1;32m--> 720\u001b[0m the_sum \u001b[38;5;241m=\u001b[39m \u001b[43m_ensure_numeric\u001b[49m\u001b[43m(\u001b[49m\u001b[43mthe_sum\u001b[49m\u001b[43m)\u001b[49m\n\u001b[0;32m    722\u001b[0m \u001b[38;5;28;01mif\u001b[39;00m axis \u001b[38;5;129;01mis\u001b[39;00m \u001b[38;5;129;01mnot\u001b[39;00m \u001b[38;5;28;01mNone\u001b[39;00m \u001b[38;5;129;01mand\u001b[39;00m \u001b[38;5;28mgetattr\u001b[39m(the_sum, \u001b[38;5;124m\"\u001b[39m\u001b[38;5;124mndim\u001b[39m\u001b[38;5;124m\"\u001b[39m, \u001b[38;5;28;01mFalse\u001b[39;00m):\n",
      "File \u001b[1;32m~\\miniconda3\\Lib\\site-packages\\pandas\\core\\nanops.py:1701\u001b[0m, in \u001b[0;36m_ensure_numeric\u001b[1;34m(x)\u001b[0m\n\u001b[0;32m   1699\u001b[0m \u001b[38;5;28;01mif\u001b[39;00m \u001b[38;5;28misinstance\u001b[39m(x, \u001b[38;5;28mstr\u001b[39m):\n\u001b[0;32m   1700\u001b[0m     \u001b[38;5;66;03m# GH#44008, GH#36703 avoid casting e.g. strings to numeric\u001b[39;00m\n\u001b[1;32m-> 1701\u001b[0m     \u001b[38;5;28;01mraise\u001b[39;00m \u001b[38;5;167;01mTypeError\u001b[39;00m(\u001b[38;5;124mf\u001b[39m\u001b[38;5;124m\"\u001b[39m\u001b[38;5;124mCould not convert string \u001b[39m\u001b[38;5;124m'\u001b[39m\u001b[38;5;132;01m{\u001b[39;00mx\u001b[38;5;132;01m}\u001b[39;00m\u001b[38;5;124m'\u001b[39m\u001b[38;5;124m to numeric\u001b[39m\u001b[38;5;124m\"\u001b[39m)\n\u001b[0;32m   1702\u001b[0m \u001b[38;5;28;01mtry\u001b[39;00m:\n",
      "\u001b[1;31mTypeError\u001b[0m: Could not convert string 'Allen, Miss Elisabeth WaltonAllison, Miss Helen LoraineAllison, Mrs Hudson JC (Bessie Waldo Daniels)Andrews, Miss Kornelia TheodosiaAppleton, Mrs Edward Dale (Charlotte Lamson)Astor, Mrs John Jacob (Madeleine Talmadge Force)Aubert, Mrs Leontine PaulineBaxter, Mrs James (Helene DeLaudeniere Chaput)Beckwith, Mrs Richard Leonard (Sallie Monypeny)Bishop, Mrs Dickinson H (Helen Walton)Bonnell, Miss CarolineBonnell, Miss ElizabethBowen, Miss Grace ScottBowerman, Miss Elsie EdithBrown, Mrs James Joseph (Margaret Molly\" Tobin)\"Brown, Mrs John Murray (Caroline Lane Lamson)Bucknell, Mrs William Robert (Emma Eliza Ward)Candee, Mrs Edward (Helen Churchill Hungerford)Cardeza, Mrs James Warburton Martinez (Charlotte Wardle Drake)Carter, Mrs William Ernest (Lucile Polk)Carter, Miss Lucile PolkCassebeer, Mrs Henry Arthur jr (Genevieve Fosdick)Cavendish, Mrs Tyrell William Julia Florence SiegelChaffee, Mrs Herbert Fuller (Carrie Constance Toogood)Chambers, Mrs Norman Campbell (Bertha Griggs)Cherry, Miss GladysChibnall (Bowerman), Mrs Edith MarthaClark, Mrs Walter Miller (Virginia McDowell)Compton, Mrs Alexander Taylor (Mary Eliza Ingersoll)Compton, Miss Sara RebeccaCornell, Mrs Robert Clifford (Malvina Helen Lamson)Crosby, Mrs Edward Gifford (Catherine Elizabeth Halstead)Crosby, Miss Harriet RCumings, Mrs John Bradley (Florence Briggs Thayer)Davidson, Mrs Thornton (Orian Hays)de Villiers, Madame BertheDick, Mrs Albert Adrian Vera GillespieDodge, Mrs Washington (Ruth Vidaver)Douglas, Mrs Frederick Charles (Suzette Baxter)Douglas, Mrs Walter Donald (Mahala Dutton)Duff Gordon, Lady (Lucille Wallace Sutherland)Earnshaw, Mrs Boulton (Olive Potter)Eustis, Miss Elizabeth MusseyEvans, Miss Edith CorseFlegenheim, Mrs Alfred (Antoinette)Fortune, Miss Alice ElizabethFortune, Miss Ethel FloraFortune, Miss MabelFortune, Mrs Mark (Mary McDougald)Frauenthal, Mrs Henry William (Clara Heinsheimer)Frolicher, Miss MargueriteFrolicher-Stehli, Mrs Maxmillian (Margaretha Emerentia Stehli)Futrelle, Mrs Jacques (May Peel)Gibson, Miss DorothyGibson, Mrs Leonard (Pauline C Boeson)Goldenberg, Mrs Samuel L (Edwiga Grabowsko)Graham, Miss Margaret EdithGraham, Mrs William Thompson (Edith Junkins)Greenfield, Mrs Leo David (Blanche Strouse)Harder, Mrs George Achilles (Dorothy Annan)Harper, Mrs Henry Sleeper (Myna Haxtun)Harris, Mrs Henry Birkhardt (Irene Wallach)Hays, Mrs Charles Melville (Clara Jennings Gregg)Hays, Miss Margaret BechsteinHippach, Miss Jean GertrudeHippach, Mrs Louis Albert (Ida Sophia Fischer)Hogeboom, Mrs John C (Anna Andrews)Holverson, Mrs Alexander Oskar (Mary Aline Towner)Hoyt, Mrs Frederick Maxfield (Jane Anne Forby)Isham, Miss Anne ElizabethKenyon, Mrs Frederick R (Marion)Kimball, Mrs Edwin Nelson Jr (Gertrude Parsons)Leader, Dr Alice FarnhamLindstrom, Mrs Carl Johan (Sigrid Posse)Lines, Mrs Ernest H (Elizabeth Lindsey James)Lines, Miss Mary ConoverLongley, Miss Gretchen FiskeMadill, Miss Georgette AlexandraMarvin, Mrs Daniel Warner (Mary Graham Carmichael Farquarson)Meyer, Mrs Edgar Joseph (Leila Saks)Minahan, Miss Daisy EMinahan, Mrs William Edward (Lillian E Thorpe)Newell, Miss MadeleineNewell, Miss MarjorieNewsom, Miss Helen MonypenyOstby, Miss Helen RaghnildPears, Mrs Thomas (Edith)Penasco, Mrs Victor de Satode (Josefa de Soto)Potter, Mrs Thomas, Jr (Lily Alexenia Wilson)Robert, Mrs Edward Scott (Elisabeth Walton McMillan)Rosenbaum (Russell), Miss Edith LouiseRothes, the Countess of (Noel Lucy Martha Dyer-Edwardes)Rothschild, Mrs Martin (Elizabeth L Barrett)Ryerson, Mrs Arthur Larned (Emily Maria Borie)Ryerson, Miss Emily BorieRyerson, Miss Susan (Suzette) ParkerSchabert, Mrs Paul (Emma Mock)Shutes, Miss Elizabeth WSilvey, Mrs William Baird (Alice Munger)Smith, Mrs Lucien Philip (Mary Eloise HughesSnyder, Mrs John Pillsbury (Nelle Stevenson)Spedden, Mrs Frederick Oakley (Margaretta Corning Stone)Spencer, Mrs William Augustus (Marie Eugenie)Stengel, Mrs Charles Emil Henry (Annie May Morris)Stephenson, Mrs Walter Bertram (Martha Eustis)Stone, Mrs George Nelson (Martha E)Straus, Mrs Isidor (Ida Blun)Swift, Mrs Frederick Joel (Margaret Welles Barron)Taussig, Mrs Emil (Tillie Mandelbaum)Taussig, Miss RuthTaylor, Mrs Elmer Zebley (Juliet Cummins Wright)Thayer, Mrs John Borland (Marian Longstreth Morris)Thorne, Mrs Gertrude MaybelleWarren, Mrs Frank Manley (Anna S Atkinson)White, Mrs J Stuart (Ella Holmes)Wick, Mrs George Dennick (Martha Hitchcock)Wick, Miss Mary NatalieWidener, Mrs George Dunton (Eleanor Elkins)Willard, Miss ConstanceYoung, Miss Marie GriceBarber, Ms Bazzani, Ms AlbinaBidois, Miss RosalieBird, Ms EllenBissetti, Ms AmeliaBurns, Ms Elizabeth MargaretChaudanson, Ms         VictorineCleaver, Ms AliceDaniels, Ms SarahEndres, Miss Caroline LouiseFleming, Ms MargaretFrancatelli, Ms Laura MabelGeiger, Miss Emily Icabad (Icabod), MsKenchen, Ms AmeliaLeRoy, Miss BertheMaloney, MsOliva, MllePericault, MsSegesser, Mlle EmmaSeredeca, MsWard, Ms AnnaWilson, Ms HelenAbelson, Mrs Samuel (Anna)Angle, Mrs William A (Florence)Balls, Mrs Ada E HallBeane, Mrs Edward (Ethel Clarke)Becker, Mrs Allen Oliver (Nellie E Baumgardner)Becker, Miss Marion LouiseBecker, Miss Ruth ElizabethBentham, Miss Lilian WBrown, Miss Edith EBrown, Mrs Thomas William Solomon (Elizabeth C)Bryhl, Miss DagmarBuss, Miss KateBystrom, Mrs CarolinaCaldwell, Mrs Albert Francis (Sylvia Mae Harbaugh)Cameron, Miss ClearCarter, Mrs Ernest Courtenay (Lillian Hughes)Chapman, Mrs John Henry (Elizabeth Lawry)Christy, Mrs Alice FrancesChristy, Miss JulieClarke, Mrs Charles V (Ada Maria)Collyer, Mrs Harvey (Charlotte Tate)Collyer, Miss MarjorieCook, Mrs Selena RogersCorbett, Mrs Walter H (Irene Colvin)Corey, Mrs Percy C (Mary Phyllis Elizabeth Miller)Davis, Mrs AgnesDavis, Miss Marydel Carlo, Mrs Sebastiano (Argenia Genovese)Doling, Mrs AdaDoling, Miss ElsieDrew, Mrs James Vivian (Lulu Thorne Christian)Duran y More, Miss AsuncionDuran y More, Miss FlorentinaFaunthorpe, Mrs Lizzie (see Wilkinson, E)Funk, Miss Annie CGarside, Miss EthelHamalainen, Mrs William (Anna)Harper, Miss NinaHart, Mrs Benjamin (Esther)Hart, Miss Eva MiriamHerman, Miss AliceHerman, Miss KateHerman, Mrs Samuel (Jane Laver)Hewlett, Mrs Mary DHiltunen, Miss MartaHocking, Mrs ElizabethHocking, Miss Ellen (Nellie)Hold, Mrs Stephen (Annie Margaret)Howard, Mrs Benjamin (Ellen Truelove)Ilett, Miss BerthaJacobsohn, Mrs Sidney Samuel (Amy Frances Christy)Jerwan, Mrs Amin S (Marie Thuillard)Kantor, Mrs Sinai (Miriam Sternim)Karnes, Mrs J Frank (Claire Bennett)Keane, Miss Nora AKelly, Mrs Florence (Fannie)Lahtinen, Mrs William (Anna Sylvan)Lemore, Mrs AmeliaLaRoche, Mrs Joseph (Juliet)LaRoche, Miss LouiseLaRoche, Miss SimonneLehmann, Miss BerthaLeitch, Miss JessieLouch, Mrs Charles Alexander (Alice Adelaide)Mack, Mrs MaryMallet, Mrs Albert (Antoinette)Marshall, Mrs Kate Louise PhillipsMellenger, Mrs Elizabeth AnneMellenger, Miss Madeleine VioletNasser (Nasrallah), Mrs NicholasNye, Mrs Elizabeth RamellParrish, Mrs Lutie DavisPhillips, Miss AlicePinsky, Miss RosaQuick, Mrs Frederick C (Jane Richards)Quick, Miss Phyllis MayQuick, Miss Winifred VeraRenouf, Mrs Peter Henry (Lillian Jefferys)Reynaldo, Mrs EncarnacionRichards, Mrs Sidney (Emily Hocking)Ridsdale, Miss LucyRugg, Miss EmilyShelley, Mrs William (Imanita)Silven, Miss LyyliSincock, Miss MaudeSiukonnen, Miss AnnaSlayter, Miss Hilda MarySmith, Miss MarionToomey, Miss EllenTrout, Mrs William H (Jessie L)Troutt, Miss Edwina CeliaTurpin, Mrs William John (Dorothy Anne Wonnacott)Walcroft, Miss NellieWare, Mrs John James (Florence Louise Long)Watt, Miss BerthaWatt, Mrs James (Bessie Inglis Milne)Webber, Miss SusanWeisz, Mrs Leopold (Mathilde)Wells, Mrs Arthur H (Addie Trevaskis)Wells, Miss JoanWest, Miss Barbara JWest, Miss Constance MiriumWest, Mrs Edwy Arthur (Ada Mary)Wilkinson, Mrs Elizabeth AnneWright, Miss MarionYrois, Miss HenrietteBrown, Miss MildredAbbott, Mrs Stanton (Rosa)Abelseth, Miss Anna KarenAbraham, Mrs Joseph (Sophie Easu)Ahlin, Mrs Johanna PersdotterAks, Mrs Sam (Leah Rosen)Andersson, Mrs Anders Johan (Alfrida K Brogren)Andersson, Miss Ebba IrisAndersson, Miss Ellis Anna MariaAndersson, Miss ErnaAndersson, Miss Ida Augusta MargaretaAndersson, Miss Ingeborg ConstanciaAndersson, Miss Sigrid ElizabethArnold, Mrs Josef (Josephine Frank)Asplund, Mrs Carl Oscar (Selma Augusta Johansson)Asplund, Miss Lillian GertrudAssaf, Mrs MarianaAttalah, Miss MalakaBackstrom, Mrs Karl Alfred (Maria Mathilda Gustafsson)Baclini, Miss EugenieBaclini, Miss HeleneBaclini, Miss MariaBaclini, Mrs Solomon (Latifa)Badman, Miss Emily LouisaBanoura, Miss AyoutBarbara, Mrs CatherineBarbara, Miss SaudeBarry, Miss JuliaBoulos, Mrs Joseph (Sultana)Boulos, Miss LauraBourke, Mrs John (Catherine)Bourke, Miss MaryBradley, Miss Bridget DeliaBraf, Miss Elin Ester MariaBuckley, Miss KatherineBurns, Miss Mary DeliaCanavan, Miss MaryCaram (Kareem), Mrs Joseph (Maria Elias)Carr, Miss HelenCarr, Miss JeannieConnolly, Miss KateConnolly, Miss KateCoutts, Mrs William (Minnie)Cribb, Miss Laura AliceDahlberg, Miss Gerda UlrikaDaly, Miss MarcellaDanbom, Mrs Ernst Gilbert (Anna Sigrid Maria Brogren)Davison, Mrs Thomas Henry (Mary Finck)Dean, Mrs Bertram (Eva)Dean, Miss Elizabeth Gladys (Millvena)De Messemaeker, Mrs William Joseph (Anna)Devaney, Miss MargaretDowdell, Miss ElizabethDoyle, Miss ElizabethDrapkin, Miss JennieDriscoll, Miss BridgetDyker, Mrs Adolf Fredrik (Anna Elizabeth Judith Andersson)Emanuel, Miss Virginia EthelFord, Miss Doolina MargaretFord, Miss MaggieFord, Mrs Edward (Margaret Ann)Georges, Mrs Shahini WeappiGilnagh, Miss KatieGlynn, Miss Mary AgathaGoldsmith, Mrs Frank John (Emily A Brown)Goodwin, Mrs Frederick (Augusta)Goodwin, Miss Lillian AGoodwin, Miss Jessie AHaas, Miss AloisiaHagardon, Miss KateHakkarainen, Mrs Pekko PietariHansen, Mrs Claus PeterHarknett, Miss AliceHealy, Miss NoraHegarty, Miss NoraHeikkinen, Miss LainaHeininen, Miss Wendla MariaHellstrom, Hilda MariaHemming, Miss NoraHenery, DeliaHenriksson, Jenny LovisaHirvonen, Mrs AlexanderHirvonen, Miss Hildur EHonkanen, Miss ElunaHoward, Miss MayIlmakangas, Miss Ida LivijaIlmakangas, Miss Pieta SofiaJensen, Miss Carla ChristineJermyn, Miss AnnieJohnson, Miss Eleanor IleenJohnson, Mrs Oscar WJohnston, Mrs Andrew GJohnston, Miss Catherine HJussila, Miss Aina MariaJussila, Miss KatriinaKarun, Miss Anna MaryKelly, Miss Anna KateKelly, Miss MaryKhalil, Mrs BetrosKink, Mrs Anton (Louise Heilmann)Kink, Miss Louise GretchenKink, Miss MariaKlasen, Miss Gertrud EmiliaKlasen, Mrs Hulda KristinaLaitinen, Miss Kritina SofiaLandegren, Miss Aurora AdeliaLefebre, Mrs FrankLefebre, Miss IdaLefebre, Miss JeannieLefebre, Miss MathildeLemon, Miss MaryLindahl, Miss Agda VLindblom, Miss Augusta CharlottaLindell, Mrs Edvard BengtssonLobb, Mrs William ArthurLundin, Miss Olga ElidaMadigan, Miss MargaretMahon, Miss DeliaMangan, Miss MaryMannion, Miss MargarethMasselmany, Mrs FatimaMcCarthy, Miss KatieMcCoy, Miss AgnesMcCoy, Miss AliceMcDermott, Miss DeliaMcGovern, Mrs HughMcGowan, Miss AnnaMcGowan, Miss KatherineMcNamee, Mrs NealMeanwell, Miss Marion OgdenMeek, Mrs ThomasMelkebuk, Mrs PhilemonMocklare, Miss Helen MaryMoor, Mrs BeilaMoran, Miss BerthaMoubarek, Mrs GeorgeMoussa, Mrs Mantoura BaloicsMullins, Miss KatieMulvihill, Miss Bertha EMurphy, Miss KatherineMurphy, Miss MargaretMurphy, Miss NoraNackid, Miss MariaNackid, Mrs SaidNajib, Miss Adele KiamieNaughton, Miss HannahNicola-Yarred, Miss JamilaNieminen, Miss Manta JosefinaNilsson, Miss Berta OliviaNilsson, Miss Helmina JosefinaNysten, Miss AnnaO'Brien, Mrs ThomasO'Dwyer, Miss NellieOhman, Miss VelinOLeary, Miss NorahOlsson, Miss ElidaO'Neill, Miss BridgetOsman, Miss MariaO'Sullivan, Miss BridgetPanula, Mrs JohnPaulsson, Mrs NilsPaulsson, Miss Stina ViolaPaulsson, Miss Torborg DaniraPeacock, Mrs BenjaminPeacock, Miss TreasteallPeter (Joseph), Miss MaryPeter (Joseph), Mrs CatherinePeters, Miss KatiePetranec, Miss MatildaPettersson, Miss Ellen NataliaRice, Mrs WilliamRiihiivouri, Miss SanniRiordan, Miss HannahRisien, Mrs SamuelRobins, Mrs Alexander ARosblom, Mrs ViktorRosblom, Miss Salli HelenaRoth, Miss SarahSage, Miss AdaSage, Miss ConstanceSage, Miss DorothySage, Mrs JohnSage, Miss StellaSalkjelsvik, Miss AnnaSandstrom, Miss HjalmarSandstrom, Miss Beatrice IreneSandstrom, Miss Marguerite RutShine, Miss EllenSjoblom, Miss Anna SofiaSkoog, Miss MabelSkoog, Miss MargitSkoog, Mrs WilliamSmyth, Miss JuliaSolvang, Mrs Lena JacobsenStanley, Miss Amy Zilla ElsieStrandberg, Miss Ida SofiaStrom, Mrs WilhelmStrom, Miss Telma (Selma) MatildaThomas, Mrs AlexanderThorneycroft, Mrs PercivalTouma (Thomas), Mrs DarwinTouma (Thomas), Miss HannahTurja, Miss Anna SofiaTurkula, Mrs HedvigVan der Planke, Miss AugustaVan der Planke, Mrs JulesVan Impe, Miss CatharineVan Impe, Mrs Jean BaptisteVestrom, Miss Hulda Amanda AdolfinaWilkes, Mrs EllenYasbeck, Mrs AntoniZabour, Miss HileniZabour, Miss Tamini' to numeric",
      "\nThe above exception was the direct cause of the following exception:\n",
      "\u001b[1;31mTypeError\u001b[0m                                 Traceback (most recent call last)",
      "Cell \u001b[1;32mIn[4], line 3\u001b[0m\n\u001b[0;32m      1\u001b[0m \u001b[38;5;66;03m# Group rows by the values of the column 'Sex', calculate mean\u001b[39;00m\n\u001b[0;32m      2\u001b[0m \u001b[38;5;66;03m# of each group\u001b[39;00m\n\u001b[1;32m----> 3\u001b[0m \u001b[43mdataframe\u001b[49m\u001b[38;5;241;43m.\u001b[39;49m\u001b[43mgroupby\u001b[49m\u001b[43m(\u001b[49m\u001b[38;5;124;43m'\u001b[39;49m\u001b[38;5;124;43mSex\u001b[39;49m\u001b[38;5;124;43m'\u001b[39;49m\u001b[43m)\u001b[49m\u001b[38;5;241;43m.\u001b[39;49m\u001b[43mmean\u001b[49m\u001b[43m(\u001b[49m\u001b[43m)\u001b[49m\n",
      "File \u001b[1;32m~\\miniconda3\\Lib\\site-packages\\pandas\\core\\groupby\\groupby.py:2452\u001b[0m, in \u001b[0;36mGroupBy.mean\u001b[1;34m(self, numeric_only, engine, engine_kwargs)\u001b[0m\n\u001b[0;32m   2445\u001b[0m     \u001b[38;5;28;01mreturn\u001b[39;00m \u001b[38;5;28mself\u001b[39m\u001b[38;5;241m.\u001b[39m_numba_agg_general(\n\u001b[0;32m   2446\u001b[0m         grouped_mean,\n\u001b[0;32m   2447\u001b[0m         executor\u001b[38;5;241m.\u001b[39mfloat_dtype_mapping,\n\u001b[0;32m   2448\u001b[0m         engine_kwargs,\n\u001b[0;32m   2449\u001b[0m         min_periods\u001b[38;5;241m=\u001b[39m\u001b[38;5;241m0\u001b[39m,\n\u001b[0;32m   2450\u001b[0m     )\n\u001b[0;32m   2451\u001b[0m \u001b[38;5;28;01melse\u001b[39;00m:\n\u001b[1;32m-> 2452\u001b[0m     result \u001b[38;5;241m=\u001b[39m \u001b[38;5;28;43mself\u001b[39;49m\u001b[38;5;241;43m.\u001b[39;49m\u001b[43m_cython_agg_general\u001b[49m\u001b[43m(\u001b[49m\n\u001b[0;32m   2453\u001b[0m \u001b[43m        \u001b[49m\u001b[38;5;124;43m\"\u001b[39;49m\u001b[38;5;124;43mmean\u001b[39;49m\u001b[38;5;124;43m\"\u001b[39;49m\u001b[43m,\u001b[49m\n\u001b[0;32m   2454\u001b[0m \u001b[43m        \u001b[49m\u001b[43malt\u001b[49m\u001b[38;5;241;43m=\u001b[39;49m\u001b[38;5;28;43;01mlambda\u001b[39;49;00m\u001b[43m \u001b[49m\u001b[43mx\u001b[49m\u001b[43m:\u001b[49m\u001b[43m \u001b[49m\u001b[43mSeries\u001b[49m\u001b[43m(\u001b[49m\u001b[43mx\u001b[49m\u001b[43m,\u001b[49m\u001b[43m \u001b[49m\u001b[43mcopy\u001b[49m\u001b[38;5;241;43m=\u001b[39;49m\u001b[38;5;28;43;01mFalse\u001b[39;49;00m\u001b[43m)\u001b[49m\u001b[38;5;241;43m.\u001b[39;49m\u001b[43mmean\u001b[49m\u001b[43m(\u001b[49m\u001b[43mnumeric_only\u001b[49m\u001b[38;5;241;43m=\u001b[39;49m\u001b[43mnumeric_only\u001b[49m\u001b[43m)\u001b[49m\u001b[43m,\u001b[49m\n\u001b[0;32m   2455\u001b[0m \u001b[43m        \u001b[49m\u001b[43mnumeric_only\u001b[49m\u001b[38;5;241;43m=\u001b[39;49m\u001b[43mnumeric_only\u001b[49m\u001b[43m,\u001b[49m\n\u001b[0;32m   2456\u001b[0m \u001b[43m    \u001b[49m\u001b[43m)\u001b[49m\n\u001b[0;32m   2457\u001b[0m     \u001b[38;5;28;01mreturn\u001b[39;00m result\u001b[38;5;241m.\u001b[39m__finalize__(\u001b[38;5;28mself\u001b[39m\u001b[38;5;241m.\u001b[39mobj, method\u001b[38;5;241m=\u001b[39m\u001b[38;5;124m\"\u001b[39m\u001b[38;5;124mgroupby\u001b[39m\u001b[38;5;124m\"\u001b[39m)\n",
      "File \u001b[1;32m~\\miniconda3\\Lib\\site-packages\\pandas\\core\\groupby\\groupby.py:1998\u001b[0m, in \u001b[0;36mGroupBy._cython_agg_general\u001b[1;34m(self, how, alt, numeric_only, min_count, **kwargs)\u001b[0m\n\u001b[0;32m   1995\u001b[0m     result \u001b[38;5;241m=\u001b[39m \u001b[38;5;28mself\u001b[39m\u001b[38;5;241m.\u001b[39m_agg_py_fallback(how, values, ndim\u001b[38;5;241m=\u001b[39mdata\u001b[38;5;241m.\u001b[39mndim, alt\u001b[38;5;241m=\u001b[39malt)\n\u001b[0;32m   1996\u001b[0m     \u001b[38;5;28;01mreturn\u001b[39;00m result\n\u001b[1;32m-> 1998\u001b[0m new_mgr \u001b[38;5;241m=\u001b[39m \u001b[43mdata\u001b[49m\u001b[38;5;241;43m.\u001b[39;49m\u001b[43mgrouped_reduce\u001b[49m\u001b[43m(\u001b[49m\u001b[43marray_func\u001b[49m\u001b[43m)\u001b[49m\n\u001b[0;32m   1999\u001b[0m res \u001b[38;5;241m=\u001b[39m \u001b[38;5;28mself\u001b[39m\u001b[38;5;241m.\u001b[39m_wrap_agged_manager(new_mgr)\n\u001b[0;32m   2000\u001b[0m \u001b[38;5;28;01mif\u001b[39;00m how \u001b[38;5;129;01min\u001b[39;00m [\u001b[38;5;124m\"\u001b[39m\u001b[38;5;124midxmin\u001b[39m\u001b[38;5;124m\"\u001b[39m, \u001b[38;5;124m\"\u001b[39m\u001b[38;5;124midxmax\u001b[39m\u001b[38;5;124m\"\u001b[39m]:\n",
      "File \u001b[1;32m~\\miniconda3\\Lib\\site-packages\\pandas\\core\\internals\\managers.py:1469\u001b[0m, in \u001b[0;36mBlockManager.grouped_reduce\u001b[1;34m(self, func)\u001b[0m\n\u001b[0;32m   1465\u001b[0m \u001b[38;5;28;01mif\u001b[39;00m blk\u001b[38;5;241m.\u001b[39mis_object:\n\u001b[0;32m   1466\u001b[0m     \u001b[38;5;66;03m# split on object-dtype blocks bc some columns may raise\u001b[39;00m\n\u001b[0;32m   1467\u001b[0m     \u001b[38;5;66;03m#  while others do not.\u001b[39;00m\n\u001b[0;32m   1468\u001b[0m     \u001b[38;5;28;01mfor\u001b[39;00m sb \u001b[38;5;129;01min\u001b[39;00m blk\u001b[38;5;241m.\u001b[39m_split():\n\u001b[1;32m-> 1469\u001b[0m         applied \u001b[38;5;241m=\u001b[39m \u001b[43msb\u001b[49m\u001b[38;5;241;43m.\u001b[39;49m\u001b[43mapply\u001b[49m\u001b[43m(\u001b[49m\u001b[43mfunc\u001b[49m\u001b[43m)\u001b[49m\n\u001b[0;32m   1470\u001b[0m         result_blocks \u001b[38;5;241m=\u001b[39m extend_blocks(applied, result_blocks)\n\u001b[0;32m   1471\u001b[0m \u001b[38;5;28;01melse\u001b[39;00m:\n",
      "File \u001b[1;32m~\\miniconda3\\Lib\\site-packages\\pandas\\core\\internals\\blocks.py:393\u001b[0m, in \u001b[0;36mBlock.apply\u001b[1;34m(self, func, **kwargs)\u001b[0m\n\u001b[0;32m    387\u001b[0m \u001b[38;5;129m@final\u001b[39m\n\u001b[0;32m    388\u001b[0m \u001b[38;5;28;01mdef\u001b[39;00m \u001b[38;5;21mapply\u001b[39m(\u001b[38;5;28mself\u001b[39m, func, \u001b[38;5;241m*\u001b[39m\u001b[38;5;241m*\u001b[39mkwargs) \u001b[38;5;241m-\u001b[39m\u001b[38;5;241m>\u001b[39m \u001b[38;5;28mlist\u001b[39m[Block]:\n\u001b[0;32m    389\u001b[0m \u001b[38;5;250m    \u001b[39m\u001b[38;5;124;03m\"\"\"\u001b[39;00m\n\u001b[0;32m    390\u001b[0m \u001b[38;5;124;03m    apply the function to my values; return a block if we are not\u001b[39;00m\n\u001b[0;32m    391\u001b[0m \u001b[38;5;124;03m    one\u001b[39;00m\n\u001b[0;32m    392\u001b[0m \u001b[38;5;124;03m    \"\"\"\u001b[39;00m\n\u001b[1;32m--> 393\u001b[0m     result \u001b[38;5;241m=\u001b[39m \u001b[43mfunc\u001b[49m\u001b[43m(\u001b[49m\u001b[38;5;28;43mself\u001b[39;49m\u001b[38;5;241;43m.\u001b[39;49m\u001b[43mvalues\u001b[49m\u001b[43m,\u001b[49m\u001b[43m \u001b[49m\u001b[38;5;241;43m*\u001b[39;49m\u001b[38;5;241;43m*\u001b[39;49m\u001b[43mkwargs\u001b[49m\u001b[43m)\u001b[49m\n\u001b[0;32m    395\u001b[0m     result \u001b[38;5;241m=\u001b[39m maybe_coerce_values(result)\n\u001b[0;32m    396\u001b[0m     \u001b[38;5;28;01mreturn\u001b[39;00m \u001b[38;5;28mself\u001b[39m\u001b[38;5;241m.\u001b[39m_split_op_result(result)\n",
      "File \u001b[1;32m~\\miniconda3\\Lib\\site-packages\\pandas\\core\\groupby\\groupby.py:1995\u001b[0m, in \u001b[0;36mGroupBy._cython_agg_general.<locals>.array_func\u001b[1;34m(values)\u001b[0m\n\u001b[0;32m   1992\u001b[0m     \u001b[38;5;28;01mreturn\u001b[39;00m result\n\u001b[0;32m   1994\u001b[0m \u001b[38;5;28;01massert\u001b[39;00m alt \u001b[38;5;129;01mis\u001b[39;00m \u001b[38;5;129;01mnot\u001b[39;00m \u001b[38;5;28;01mNone\u001b[39;00m\n\u001b[1;32m-> 1995\u001b[0m result \u001b[38;5;241m=\u001b[39m \u001b[38;5;28;43mself\u001b[39;49m\u001b[38;5;241;43m.\u001b[39;49m\u001b[43m_agg_py_fallback\u001b[49m\u001b[43m(\u001b[49m\u001b[43mhow\u001b[49m\u001b[43m,\u001b[49m\u001b[43m \u001b[49m\u001b[43mvalues\u001b[49m\u001b[43m,\u001b[49m\u001b[43m \u001b[49m\u001b[43mndim\u001b[49m\u001b[38;5;241;43m=\u001b[39;49m\u001b[43mdata\u001b[49m\u001b[38;5;241;43m.\u001b[39;49m\u001b[43mndim\u001b[49m\u001b[43m,\u001b[49m\u001b[43m \u001b[49m\u001b[43malt\u001b[49m\u001b[38;5;241;43m=\u001b[39;49m\u001b[43malt\u001b[49m\u001b[43m)\u001b[49m\n\u001b[0;32m   1996\u001b[0m \u001b[38;5;28;01mreturn\u001b[39;00m result\n",
      "File \u001b[1;32m~\\miniconda3\\Lib\\site-packages\\pandas\\core\\groupby\\groupby.py:1946\u001b[0m, in \u001b[0;36mGroupBy._agg_py_fallback\u001b[1;34m(self, how, values, ndim, alt)\u001b[0m\n\u001b[0;32m   1944\u001b[0m     msg \u001b[38;5;241m=\u001b[39m \u001b[38;5;124mf\u001b[39m\u001b[38;5;124m\"\u001b[39m\u001b[38;5;124magg function failed [how->\u001b[39m\u001b[38;5;132;01m{\u001b[39;00mhow\u001b[38;5;132;01m}\u001b[39;00m\u001b[38;5;124m,dtype->\u001b[39m\u001b[38;5;132;01m{\u001b[39;00mser\u001b[38;5;241m.\u001b[39mdtype\u001b[38;5;132;01m}\u001b[39;00m\u001b[38;5;124m]\u001b[39m\u001b[38;5;124m\"\u001b[39m\n\u001b[0;32m   1945\u001b[0m     \u001b[38;5;66;03m# preserve the kind of exception that raised\u001b[39;00m\n\u001b[1;32m-> 1946\u001b[0m     \u001b[38;5;28;01mraise\u001b[39;00m \u001b[38;5;28mtype\u001b[39m(err)(msg) \u001b[38;5;28;01mfrom\u001b[39;00m \u001b[38;5;21;01merr\u001b[39;00m\n\u001b[0;32m   1948\u001b[0m \u001b[38;5;28;01mif\u001b[39;00m ser\u001b[38;5;241m.\u001b[39mdtype \u001b[38;5;241m==\u001b[39m \u001b[38;5;28mobject\u001b[39m:\n\u001b[0;32m   1949\u001b[0m     res_values \u001b[38;5;241m=\u001b[39m res_values\u001b[38;5;241m.\u001b[39mastype(\u001b[38;5;28mobject\u001b[39m, copy\u001b[38;5;241m=\u001b[39m\u001b[38;5;28;01mFalse\u001b[39;00m)\n",
      "\u001b[1;31mTypeError\u001b[0m: agg function failed [how->mean,dtype->object]"
     ]
    }
   ],
   "source": [
    "# Group rows by the values of the column 'Sex', calculate mean\n",
    "# of each group\n",
    "dataframe.groupby('Sex').mean()"
   ]
  },
  {
   "cell_type": "code",
   "execution_count": null,
   "id": "3f5a571c-e681-44e2-b5b0-b8346ae8afb7",
   "metadata": {},
   "outputs": [],
   "source": []
  }
 ],
 "metadata": {
  "kernelspec": {
   "display_name": "Python 3 (ipykernel)",
   "language": "python",
   "name": "python3"
  },
  "language_info": {
   "codemirror_mode": {
    "name": "ipython",
    "version": 3
   },
   "file_extension": ".py",
   "mimetype": "text/x-python",
   "name": "python",
   "nbconvert_exporter": "python",
   "pygments_lexer": "ipython3",
   "version": "3.12.3"
  }
 },
 "nbformat": 4,
 "nbformat_minor": 5
}
